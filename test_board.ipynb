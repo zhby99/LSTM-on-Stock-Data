{
 "cells": [
  {
   "cell_type": "code",
   "execution_count": 9,
   "metadata": {
    "collapsed": true
   },
   "outputs": [],
   "source": [
    "from yahoo_finance import Currency"
   ]
  },
  {
   "cell_type": "code",
   "execution_count": 15,
   "metadata": {},
   "outputs": [],
   "source": [
    "eur_usd = Currency('EURUSD')"
   ]
  },
  {
   "cell_type": "code",
   "execution_count": 16,
   "metadata": {},
   "outputs": [
    {
     "name": "stdout",
     "output_type": "stream",
     "text": [
      "1.1104\n"
     ]
    }
   ],
   "source": [
    "print eur_usd.get_rate()"
   ]
  },
  {
   "cell_type": "code",
   "execution_count": 19,
   "metadata": {},
   "outputs": [
    {
     "name": "stdout",
     "output_type": "stream",
     "text": [
      "Help on class Currency in module yahoo_finance:\n\nclass Currency(Base)\n |  Method resolution order:\n |      Currency\n |      Base\n |      __builtin__.object\n |  \n |  Methods defined here:\n |  \n |  __init__(self, symbol)\n |  \n |  get_ask(self)\n |  \n |  get_bid(self)\n |  \n |  get_rate(self)\n |  \n |  get_trade_datetime(self)\n |  \n |  ----------------------------------------------------------------------\n |  Methods inherited from Base:\n |  \n |  refresh(self)\n |      Refresh stock data\n |  \n |  ----------------------------------------------------------------------\n |  Data descriptors inherited from Base:\n |  \n |  __dict__\n |      dictionary for instance variables (if defined)\n |  \n |  __weakref__\n |      list of weak references to the object (if defined)\n\n"
     ]
    }
   ],
   "source": [
    "help(Currency)"
   ]
  },
  {
   "cell_type": "code",
   "execution_count": null,
   "metadata": {},
   "outputs": [],
   "source": [
    ""
   ]
  }
 ],
 "metadata": {
  "kernelspec": {
   "display_name": "Python 2",
   "language": "python",
   "name": "python2"
  },
  "language_info": {
   "codemirror_mode": {
    "name": "ipython",
    "version": 2.0
   },
   "file_extension": ".py",
   "mimetype": "text/x-python",
   "name": "python",
   "nbconvert_exporter": "python",
   "pygments_lexer": "ipython2",
   "version": "2.7.6"
  }
 },
 "nbformat": 4,
 "nbformat_minor": 0
}